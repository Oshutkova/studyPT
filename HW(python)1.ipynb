{
 "cells": [
  {
   "cell_type": "code",
   "execution_count": 2,
   "metadata": {},
   "outputs": [],
   "source": [
    "def num (*data):\n",
    "    data1=[]\n",
    "    for j in data:\n",
    "        for i in j: \n",
    "            minx = min(i)\n",
    "            maxx = max(i)\n",
    "            p = []\n",
    "            for x in i:\n",
    "                c=(x-minx)/(maxx-minx)\n",
    "                p.append(c)\n",
    "            data1.append(p)\n",
    "    return (data1)"
   ]
  },
  {
   "cell_type": "code",
   "execution_count": 3,
   "metadata": {},
   "outputs": [],
   "source": [
    "data = [[25, -19, 35, 90, 73],[14.86452745, -26.8915466, -4.42219305, 6.3526264, 7.88297253],[0, 0, 1, 0, 1],[837, 302, 790, 271, 796],[49.97, 49.94, 51.37, 50.97, 51.29]]"
   ]
  },
  {
   "cell_type": "code",
   "execution_count": 4,
   "metadata": {},
   "outputs": [
    {
     "name": "stdout",
     "output_type": "stream",
     "text": [
      "[[0.4036697247706422, 0.0, 0.4954128440366973, 1.0, 0.8440366972477065], [1.0, 0.0, 0.5381098214141136, 0.7961517876463293, 0.8328014527505609], [0.0, 0.0, 1.0, 0.0, 1.0], [1.0, 0.054770318021201414, 0.9169611307420494, 0.0, 0.9275618374558304], [0.020979020979021778, 0.0, 1.0, 0.7202797202797212, 0.9440559440559453]]\n"
     ]
    }
   ],
   "source": [
    "print(num(data))"
   ]
  }
 ],
 "metadata": {
  "kernelspec": {
   "display_name": "Python 3",
   "language": "python",
   "name": "python3"
  },
  "language_info": {
   "codemirror_mode": {
    "name": "ipython",
    "version": 3
   },
   "file_extension": ".py",
   "mimetype": "text/x-python",
   "name": "python",
   "nbconvert_exporter": "python",
   "pygments_lexer": "ipython3",
   "version": "3.7.0"
  }
 },
 "nbformat": 4,
 "nbformat_minor": 5
}
