{
 "cells": [
  {
   "cell_type": "code",
   "execution_count": 34,
   "metadata": {},
   "outputs": [],
   "source": [
    "def num (data):\n",
    "    import numpy as np\n",
    "    data = np.array(data)\n",
    "    normalizedData =(data.transpose()-data.min(axis=1))/(data.max(axis=1)-data.min(axis=1))\n",
    "    normalizedData=normalizedData.transpose()\n",
    "    return normalizedData"
   ]
  },
  {
   "cell_type": "code",
   "execution_count": 35,
   "metadata": {},
   "outputs": [],
   "source": [
    "data = [[25, -19, 35, 90, 73],[14.86452745, -26.8915466, -4.42219305, 6.3526264, 7.88297253],[0, 0, 1, 0, 1],[837, 302, 790, 271, 796],[49.97, 49.94, 51.37, 50.97, 51.29]]"
   ]
  },
  {
   "cell_type": "code",
   "execution_count": 36,
   "metadata": {
    "scrolled": true
   },
   "outputs": [
    {
     "name": "stdout",
     "output_type": "stream",
     "text": [
      "[[0.40366972 0.         0.49541284 1.         0.8440367 ]\n",
      " [1.         0.         0.53810982 0.79615179 0.83280145]\n",
      " [0.         0.         1.         0.         1.        ]\n",
      " [1.         0.05477032 0.91696113 0.         0.92756184]\n",
      " [0.02097902 0.         1.         0.72027972 0.94405594]]\n"
     ]
    }
   ],
   "source": [
    "print(num(data))"
   ]
  }
 ],
 "metadata": {
  "kernelspec": {
   "display_name": "Python 3",
   "language": "python",
   "name": "python3"
  },
  "language_info": {
   "codemirror_mode": {
    "name": "ipython",
    "version": 3
   },
   "file_extension": ".py",
   "mimetype": "text/x-python",
   "name": "python",
   "nbconvert_exporter": "python",
   "pygments_lexer": "ipython3",
   "version": "3.7.0"
  }
 },
 "nbformat": 4,
 "nbformat_minor": 2
}
